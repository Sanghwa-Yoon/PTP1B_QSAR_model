{
 "cells": [
  {
   "cell_type": "markdown",
   "id": "e2100606",
   "metadata": {},
   "source": [
    "\n",
    "# Model Training and Validation\n",
    "\n",
    "This notebook performs model training and validation using XGBoost. It includes:\n",
    "1. Loading preprocessed data with labels.\n",
    "2. Splitting the data into train and test sets.\n",
    "3. Performing hyperparameter tuning with GridSearchCV.\n",
    "4. Evaluating the best model on the test and train sets.\n",
    "\n",
    "---\n",
    "### Inputs and Outputs:\n",
    "- **Input**:\n",
    "  - `Final_feature_selection_data_with_ylabel.csv`\n",
    "- **Outputs**:\n",
    "  - Performance metrics for the best model on both train and test sets.\n"
   ]
  },
  {
   "cell_type": "code",
   "execution_count": null,
   "id": "4d5ea55a",
   "metadata": {},
   "outputs": [],
   "source": [
    "\n",
    "# Step 1: Import Libraries and Load Data\n",
    "import pandas as pd\n",
    "import numpy as np\n",
    "from sklearn.model_selection import train_test_split, StratifiedKFold, GridSearchCV\n",
    "from sklearn.metrics import make_scorer, f1_score, roc_auc_score, accuracy_score, precision_score, recall_score, roc_curve\n",
    "import xgboost as xgb\n",
    "import matplotlib.pyplot as plt\n",
    "\n",
    "# Load preprocessed feature data\n",
    "input_data = pd.read_csv('Final_feature_selection_data_with_ylabel.csv')\n",
    "\n",
    "# Separate features and labels\n",
    "X_data = input_data.drop(columns=['y_label'])\n",
    "Y_label = input_data['y_label']\n",
    "\n",
    "print(f\"Loaded data shape: {X_data.shape}\")\n",
    "print(f\"Label data shape: {Y_label.shape}\")\n"
   ]
  },
  {
   "cell_type": "code",
   "execution_count": null,
   "id": "4d148fc8",
   "metadata": {},
   "outputs": [],
   "source": [
    "\n",
    "# Step 2: Train-Test Split\n",
    "X_train, X_test, Y_train, Y_test = train_test_split(X_data, Y_label, test_size=0.2, random_state=16)\n",
    "print(\"Train and Test data split completed.\")\n",
    "print(f\"Train data shape: {X_train.shape}, Train labels: {Y_train.shape}\")\n",
    "print(f\"Test data shape: {X_test.shape}, Test labels: {Y_test.shape}\")\n"
   ]
  },
  {
   "cell_type": "code",
   "execution_count": null,
   "id": "138016c3",
   "metadata": {},
   "outputs": [],
   "source": [
    "\n",
    "# Step 3: Define XGBoost Model and Grid Search Parameters\n",
    "xgb_classifier = xgb.XGBClassifier(objective=\"binary:logistic\", random_state=42)\n",
    "\n",
    "param_grid = {\n",
    "    'n_estimators': [100, 200, 300],\n",
    "    'learning_rate': [0.01, 0.05, 0.1],\n",
    "    'max_depth': [3],\n",
    "    'reg_alpha': [0.1],\n",
    "    'reg_lambda': [10],\n",
    "    'subsample': [0.4],\n",
    "}\n",
    "\n",
    "scoring = {\n",
    "    'accuracy': 'accuracy',\n",
    "    'f1': make_scorer(f1_score),\n",
    "    'roc_auc': 'roc_auc',\n",
    "}\n",
    "\n",
    "cv = StratifiedKFold(n_splits=5, shuffle=True, random_state=42)\n",
    "\n",
    "grid_search = GridSearchCV(\n",
    "    estimator=xgb_classifier,\n",
    "    param_grid=param_grid,\n",
    "    cv=cv,\n",
    "    scoring=scoring,\n",
    "    refit='accuracy',\n",
    "    return_train_score=True,\n",
    "    verbose=2\n",
    ")\n"
   ]
  },
  {
   "cell_type": "code",
   "execution_count": null,
   "id": "d5e70a38",
   "metadata": {},
   "outputs": [],
   "source": [
    "\n",
    "# Step 4: Perform Grid Search\n",
    "grid_search.fit(X_train, Y_train)\n",
    "\n",
    "# Best score & parameters\n",
    "print(\"Best accuracy score : {0:.4f}\".format(grid_search.best_score_))\n",
    "print(\"Best parameters: \", grid_search.best_params_)\n",
    "\n",
    "# Extract best model index and performance\n",
    "best_index = grid_search.best_index_\n",
    "cv_results = grid_search.cv_results_\n",
    "\n",
    "print(\"Best Model Performance:\")\n",
    "print(f\"  Params: {cv_results['params'][best_index]}\")\n",
    "print(f\"  Mean accuracy: {cv_results['mean_test_accuracy'][best_index]:.4f} (std: {cv_results['std_test_accuracy'][best_index]:.4f})\")\n",
    "print(f\"  Mean F1 score: {cv_results['mean_test_f1'][best_index]:.4f} (std: {cv_results['std_test_f1'][best_index]:.4f})\")\n",
    "print(f\"  Mean ROC AUC: {cv_results['mean_test_roc_auc'][best_index]:.4f} (std: {cv_results['std_test_roc_auc'][best_index]:.4f})\")\n"
   ]
  },
  {
   "cell_type": "code",
   "execution_count": null,
   "id": "a0226b78",
   "metadata": {},
   "outputs": [],
   "source": [
    "\n",
    "# Step 5: Test Set Evaluation\n",
    "estimator = grid_search.best_estimator_\n",
    "Y_pred = estimator.predict(X_test)\n",
    "Y_prob = estimator.predict_proba(X_test)[:, 1]\n",
    "\n",
    "accuracy = accuracy_score(Y_test, Y_pred)\n",
    "precision = precision_score(Y_test, Y_pred)\n",
    "recall = recall_score(Y_test, Y_pred)\n",
    "f1 = f1_score(Y_test, Y_pred)\n",
    "roc_auc = roc_auc_score(Y_test, Y_prob)\n",
    "\n",
    "print(\"Test Set Evaluation:\")\n",
    "print(\"Accuracy:\", accuracy)\n",
    "print(\"Precision\", precision)\n",
    "print(\"Recall\", recall)\n",
    "print(\"F1_score\", f1)\n",
    "print(\"ROC_AUC\", roc_auc)\n"
   ]
  },
  {
   "cell_type": "code",
   "execution_count": null,
   "id": "8b92c8ac",
   "metadata": {},
   "outputs": [],
   "source": [
    "\n",
    "# Step 6: Train Set Evaluation\n",
    "Y_train_pred = estimator.predict(X_train)\n",
    "Y_train_prob = estimator.predict_proba(X_train)[:, 1]\n",
    "\n",
    "train_accuracy = accuracy_score(Y_train, Y_train_pred)\n",
    "train_precision = precision_score(Y_train, Y_train_pred)\n",
    "train_recall = recall_score(Y_train, Y_train_pred)\n",
    "train_f1 = f1_score(Y_train, Y_train_pred)\n",
    "train_roc_auc = roc_auc_score(Y_train, Y_train_prob)\n",
    "\n",
    "print(\"Train Set Evaluation:\")\n",
    "print(\"Accuracy:\", train_accuracy)\n",
    "print(\"Precision\", train_precision)\n",
    "print(\"Recall\", train_recall)\n",
    "print(\"F1_score\", train_f1)\n",
    "print(\"ROC_AUC\", train_roc_auc)\n"
   ]
  },
  {
   "cell_type": "code",
   "execution_count": null,
   "id": "c1d36857-3a0d-4ad0-bf56-8ca9d2e414a8",
   "metadata": {},
   "outputs": [],
   "source": []
  }
 ],
 "metadata": {
  "kernelspec": {
   "display_name": "Python 3 (ipykernel)",
   "language": "python",
   "name": "python3"
  },
  "language_info": {
   "codemirror_mode": {
    "name": "ipython",
    "version": 3
   },
   "file_extension": ".py",
   "mimetype": "text/x-python",
   "name": "python",
   "nbconvert_exporter": "python",
   "pygments_lexer": "ipython3",
   "version": "3.10.9"
  }
 },
 "nbformat": 4,
 "nbformat_minor": 5
}
