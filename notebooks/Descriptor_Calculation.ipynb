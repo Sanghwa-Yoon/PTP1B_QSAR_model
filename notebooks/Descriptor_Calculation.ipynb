{
 "cells": [
  {
   "cell_type": "markdown",
   "id": "83721f9f",
   "metadata": {},
   "source": [
    "\n",
    "# Descriptor Calculation for Positive and Negative Data\n",
    "\n",
    "This notebook calculates molecular descriptors for both **Positive** and **Negative** compound datasets using the Padel Descriptor tool, performs data cleaning, and saves the processed results for further QSAR modeling.\n",
    "\n",
    "### Steps:\n",
    "1. Calculate descriptors using the Padel Descriptor tool.\n",
    "2. Remove columns with a high number of missing values.\n",
    "3. Remove rows with a high number of missing values.\n",
    "4. Save the cleaned data.\n",
    "\n",
    "---\n",
    "### Inputs and Outputs:\n",
    "- **Positive Input File**: `PTP1B_Positive_group_200.sdf`\n",
    "- **Negative Input File**: `PTP1B_Negative_dataset_02_213.sdf`\n",
    "- **Raw Outputs**:\n",
    "  - `posi_des_raw.csv` (raw Positive descriptors)\n",
    "  - `nega_des_raw.csv` (raw Negative descriptors)\n",
    "- **Processed Outputs**:\n",
    "  - `posi_descriptor.csv` (cleaned Positive descriptors)\n",
    "  - `nega_descriptor.csv` (cleaned Negative descriptors)\n"
   ]
  },
  {
   "cell_type": "code",
   "execution_count": null,
   "id": "a8d3a08d",
   "metadata": {},
   "outputs": [],
   "source": [
    "\n",
    "# Step 1: Import Libraries\n",
    "from padelpy import padeldescriptor\n",
    "import pandas as pd\n"
   ]
  },
  {
   "cell_type": "code",
   "execution_count": null,
   "id": "93acd602",
   "metadata": {},
   "outputs": [],
   "source": [
    "\n",
    "# Step 2: Define File Paths\n",
    "positive_input_sdf = \"PTP1B_positive_compounds_BindingDB(200).sdf\"\n",
    "negative_input_sdf = \"PTP1B_negative_compounds_BindingDB(218).sdf\"\n",
    "\n",
    "positive_descriptor_csv = \"posi_des_raw.csv\"\n",
    "negative_descriptor_csv = \"nega_des_raw.csv\"\n",
    "\n",
    "positive_processed_csv = \"posi_descriptor.csv\"\n",
    "negative_processed_csv = \"nega_descriptor.csv\"\n"
   ]
  },
  {
   "cell_type": "code",
   "execution_count": null,
   "id": "f70299d2",
   "metadata": {},
   "outputs": [],
   "source": [
    "\n",
    "# Step 3: Calculate Descriptors for Positive Data\n",
    "padeldescriptor(\n",
    "    mol_dir=positive_input_sdf,\n",
    "    d_file=positive_descriptor_csv,\n",
    "    d_2d=True,\n",
    "    d_3d=False,\n",
    "    detectaromaticity=True,\n",
    "    removesalt=True,\n",
    "    standardizenitro=True,\n",
    "    usefilenameasmolname=True,\n",
    "    retainorder=True,\n",
    "    threads=-1,\n",
    "    maxruntime=10000,\n",
    "    headless=True\n",
    ")\n",
    "print(\"Positive dataset descriptor calculation completed!\")\n"
   ]
  },
  {
   "cell_type": "code",
   "execution_count": null,
   "id": "ac90e2bd",
   "metadata": {},
   "outputs": [],
   "source": [
    "\n",
    "# Step 4: Calculate Descriptors for Negative Data\n",
    "padeldescriptor(\n",
    "    mol_dir=negative_input_sdf,\n",
    "    d_file=negative_descriptor_csv,\n",
    "    d_2d=True,\n",
    "    d_3d=False,\n",
    "    detectaromaticity=True,\n",
    "    removesalt=True,\n",
    "    standardizenitro=True,\n",
    "    usefilenameasmolname=True,\n",
    "    retainorder=True,\n",
    "    threads=-1,\n",
    "    maxruntime=10000,\n",
    "    headless=True\n",
    ")\n",
    "print(\"Negative dataset descriptor calculation completed!\")\n"
   ]
  },
  {
   "cell_type": "code",
   "execution_count": null,
   "id": "487acb04",
   "metadata": {},
   "outputs": [],
   "source": [
    "\n",
    "# Step 5: Load Positive Data and Check Missing Values\n",
    "positive_data = pd.read_csv(positive_descriptor_csv)\n",
    "print(\"Positive Data Shape:\", positive_data.shape)\n",
    "positive_nan_count = positive_data.isna().sum()\n",
    "print(\"Positive Data Total Missing Values:\", positive_nan_count.sum())\n"
   ]
  },
  {
   "cell_type": "code",
   "execution_count": null,
   "id": "b1c8f0a6",
   "metadata": {},
   "outputs": [],
   "source": [
    "\n",
    "# Step 6: Remove Columns with Many Missing Values for Positive Data\n",
    "positive_cols_with_nan = positive_data.columns[positive_data.isna().sum() >= 10]\n",
    "positive_cleaned_cols = positive_data.drop(columns=positive_cols_with_nan)\n",
    "print(\"Shape After Column Cleaning for Positive Data:\", positive_cleaned_cols.shape)\n"
   ]
  },
  {
   "cell_type": "code",
   "execution_count": null,
   "id": "640946b0",
   "metadata": {},
   "outputs": [],
   "source": [
    "\n",
    "# Step 7: Remove Rows with Many Missing Values for Positive Data\n",
    "positive_rows_with_nan = positive_cleaned_cols[positive_cleaned_cols.isna().sum(axis=1) >= 700]\n",
    "positive_cleaned_data = positive_cleaned_cols.drop(positive_rows_with_nan.index)\n",
    "print(\"Shape After Row Cleaning for Positive Data:\", positive_cleaned_data.shape)\n"
   ]
  },
  {
   "cell_type": "code",
   "execution_count": null,
   "id": "8094182a",
   "metadata": {},
   "outputs": [],
   "source": [
    "\n",
    "# Step 8: Save Cleaned Positive Data\n",
    "positive_final_data = positive_cleaned_data.drop(['Name'], axis=1, errors='ignore')\n",
    "positive_final_data.to_csv(positive_processed_csv, index=False)\n",
    "print(f\"Processed Positive data saved to {positive_processed_csv}\")\n"
   ]
  },
  {
   "cell_type": "code",
   "execution_count": null,
   "id": "9e35dffb",
   "metadata": {},
   "outputs": [],
   "source": [
    "\n",
    "# Step 5-8: Process Negative Data\n",
    "negative_data = pd.read_csv(negative_descriptor_csv)\n",
    "print(\"Negative Data Shape:\", negative_data.shape)\n",
    "negative_nan_count = negative_data.isna().sum()\n",
    "print(\"Negative Data Total Missing Values:\", negative_nan_count.sum())\n",
    "\n",
    "negative_cols_with_nan = negative_data.columns[negative_data.isna().sum() >= 40]\n",
    "negative_cleaned_cols = negative_data.drop(columns=negative_cols_with_nan)\n",
    "print(\"Shape After Column Cleaning for Negative Data:\", negative_cleaned_cols.shape)\n",
    "\n",
    "negative_rows_with_nan = negative_cleaned_cols[negative_cleaned_cols.isna().sum(axis=1) >= 700]\n",
    "negative_cleaned_data = negative_cleaned_cols.drop(negative_rows_with_nan.index)\n",
    "print(\"Shape After Row Cleaning for Negative Data:\", negative_cleaned_data.shape)\n",
    "\n",
    "negative_final_data = negative_cleaned_data.drop(['Name'], axis=1, errors='ignore')\n",
    "negative_final_data.to_csv(negative_processed_csv, index=False)\n",
    "print(f\"Processed Negative data saved to {negative_processed_csv}\")\n"
   ]
  }
 ],
 "metadata": {
  "kernelspec": {
   "display_name": "Python 3 (ipykernel)",
   "language": "python",
   "name": "python3"
  },
  "language_info": {
   "codemirror_mode": {
    "name": "ipython",
    "version": 3
   },
   "file_extension": ".py",
   "mimetype": "text/x-python",
   "name": "python",
   "nbconvert_exporter": "python",
   "pygments_lexer": "ipython3",
   "version": "3.10.9"
  }
 },
 "nbformat": 4,
 "nbformat_minor": 5
}
